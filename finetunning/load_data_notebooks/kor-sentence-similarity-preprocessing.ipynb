{
 "cells": [
  {
   "cell_type": "code",
   "execution_count": 72,
   "id": "0df20a4b-7f9d-48c9-9918-e1d80a5c52f5",
   "metadata": {},
   "outputs": [],
   "source": [
    "import pandas as pd"
   ]
  },
  {
   "cell_type": "code",
   "execution_count": 64,
   "id": "209e27e8-8476-4f3c-911f-770e2d8a9fdc",
   "metadata": {},
   "outputs": [],
   "source": [
    "# data = pd.read_csv('train_data', sep='\\t')\n",
    "# label = pd.read_csv('train_label.csv',sep='\\t')\n",
    "data = {'sent_a':[], 'sent_b':[], 'labels':[]}\n",
    "with open('train_data', 'r') as f:\n",
    "    cnt = 0\n",
    "    test = []\n",
    "    for idx, line in enumerate(f):\n",
    "    # line = f.readline()\n",
    "        try:\n",
    "            a, b = line.split('\\t')\n",
    "        except:\n",
    "            cnt += 1\n",
    "            test.append(idx)\n",
    "            continue\n",
    "        data['sent_a'].append(a)\n",
    "        data['sent_b'].append(b.rstrip())\n",
    "        if cnt ==20:\n",
    "            break\n",
    "        \n",
    "    "
   ]
  },
  {
   "cell_type": "code",
   "execution_count": 65,
   "id": "3f188cb1-7c10-44eb-be25-48a360a6a901",
   "metadata": {},
   "outputs": [],
   "source": [
    "with open('train_label', 'r') as f:\n",
    "    cnt = 0\n",
    "    test = []\n",
    "    for idx, line in enumerate(f):\n",
    "        if idx == 6929:\n",
    "            continue\n",
    "        data['labels'].append(int(line))"
   ]
  },
  {
   "cell_type": "code",
   "execution_count": 66,
   "id": "f4646a10-b45a-4032-8f9b-6b7fca73bf87",
   "metadata": {},
   "outputs": [
    {
     "data": {
      "text/plain": [
       "[]"
      ]
     },
     "execution_count": 66,
     "metadata": {},
     "output_type": "execute_result"
    }
   ],
   "source": [
    "test"
   ]
  },
  {
   "cell_type": "code",
   "execution_count": 67,
   "id": "a6b1856a-cc70-4b85-8937-55ac129158ea",
   "metadata": {},
   "outputs": [
    {
     "data": {
      "text/plain": [
       "61220"
      ]
     },
     "execution_count": 67,
     "metadata": {},
     "output_type": "execute_result"
    }
   ],
   "source": [
    "len(data['sent_b'])"
   ]
  },
  {
   "cell_type": "code",
   "execution_count": 68,
   "id": "5f27519f-10ef-4050-a222-f9c0d804356b",
   "metadata": {},
   "outputs": [
    {
     "data": {
      "text/plain": [
       "61220"
      ]
     },
     "execution_count": 68,
     "metadata": {},
     "output_type": "execute_result"
    }
   ],
   "source": [
    "len(data['labels'])"
   ]
  },
  {
   "cell_type": "code",
   "execution_count": 69,
   "id": "87885c1d-259f-401b-b6f7-099e49f59dae",
   "metadata": {},
   "outputs": [],
   "source": [
    "df = pd.DataFrame(data)\n",
    "df.to_csv('../../kor-sentence.csv')"
   ]
  },
  {
   "cell_type": "code",
   "execution_count": 71,
   "id": "72b16d3e-f84c-4b0b-9b8e-df2bf0660ddf",
   "metadata": {},
   "outputs": [
    {
     "data": {
      "text/html": [
       "<div>\n",
       "<style scoped>\n",
       "    .dataframe tbody tr th:only-of-type {\n",
       "        vertical-align: middle;\n",
       "    }\n",
       "\n",
       "    .dataframe tbody tr th {\n",
       "        vertical-align: top;\n",
       "    }\n",
       "\n",
       "    .dataframe thead th {\n",
       "        text-align: right;\n",
       "    }\n",
       "</style>\n",
       "<table border=\"1\" class=\"dataframe\">\n",
       "  <thead>\n",
       "    <tr style=\"text-align: right;\">\n",
       "      <th></th>\n",
       "      <th>sent_a</th>\n",
       "      <th>sent_b</th>\n",
       "      <th>labels</th>\n",
       "    </tr>\n",
       "  </thead>\n",
       "  <tbody>\n",
       "    <tr>\n",
       "      <th>61200</th>\n",
       "      <td>항생제주사관한</td>\n",
       "      <td>항생제 주사 맞고나서</td>\n",
       "      <td>1</td>\n",
       "    </tr>\n",
       "    <tr>\n",
       "      <th>61201</th>\n",
       "      <td>강아지 용변훈련법</td>\n",
       "      <td>강아지 용변 훈련이 방법좀!!</td>\n",
       "      <td>1</td>\n",
       "    </tr>\n",
       "    <tr>\n",
       "      <th>61202</th>\n",
       "      <td>카페인 중독인데 어트캐 해야하나요?</td>\n",
       "      <td>카페인 중독에 대해서.</td>\n",
       "      <td>0</td>\n",
       "    </tr>\n",
       "    <tr>\n",
       "      <th>61203</th>\n",
       "      <td>에어컨에서 나오는 물의 성질(성분)을 자세히 알려주세요.</td>\n",
       "      <td>물의 성분은 무엇 인가요?</td>\n",
       "      <td>0</td>\n",
       "    </tr>\n",
       "    <tr>\n",
       "      <th>61204</th>\n",
       "      <td>박카스 - 박카스는 왜 빨대를 꽂아 먹지 못할까요?</td>\n",
       "      <td>박카스는 왜 두병 마시면 안되나요?</td>\n",
       "      <td>0</td>\n",
       "    </tr>\n",
       "    <tr>\n",
       "      <th>61205</th>\n",
       "      <td>음식 할 때 양념 넣는 순서가 있나요?</td>\n",
       "      <td>볶음밥 하는 순서좀 알려주세요~</td>\n",
       "      <td>0</td>\n",
       "    </tr>\n",
       "    <tr>\n",
       "      <th>61206</th>\n",
       "      <td>십장생의 의미에 대해 알려주세요</td>\n",
       "      <td>십장생 각각의 의미</td>\n",
       "      <td>1</td>\n",
       "    </tr>\n",
       "    <tr>\n",
       "      <th>61207</th>\n",
       "      <td>탕수육소스가 천천히식는 이유</td>\n",
       "      <td>탕수육소스 굳는이유</td>\n",
       "      <td>0</td>\n",
       "    </tr>\n",
       "    <tr>\n",
       "      <th>61208</th>\n",
       "      <td>가족구조의 빈폴(bean pole)화가 뭐지요?</td>\n",
       "      <td>가정주부는 무슨 산업인가요?</td>\n",
       "      <td>0</td>\n",
       "    </tr>\n",
       "    <tr>\n",
       "      <th>61209</th>\n",
       "      <td>영사관과 대사관의 차이점?</td>\n",
       "      <td>영사관과 대사관의 차이</td>\n",
       "      <td>1</td>\n",
       "    </tr>\n",
       "    <tr>\n",
       "      <th>61210</th>\n",
       "      <td>방음부스 방음자재</td>\n",
       "      <td>방음자재 질문입니다(내공100)</td>\n",
       "      <td>1</td>\n",
       "    </tr>\n",
       "    <tr>\n",
       "      <th>61211</th>\n",
       "      <td>칼슘에대해서..</td>\n",
       "      <td>칼슘에관해서</td>\n",
       "      <td>1</td>\n",
       "    </tr>\n",
       "    <tr>\n",
       "      <th>61212</th>\n",
       "      <td>펠레의 저주 말이예요..</td>\n",
       "      <td>펠레의 왈?</td>\n",
       "      <td>0</td>\n",
       "    </tr>\n",
       "    <tr>\n",
       "      <th>61213</th>\n",
       "      <td>조기경보기 질문이요!</td>\n",
       "      <td>조기경보기 질문</td>\n",
       "      <td>1</td>\n",
       "    </tr>\n",
       "    <tr>\n",
       "      <th>61214</th>\n",
       "      <td>보름 게는 개도안먹는다는데 왜그러죠</td>\n",
       "      <td>왜 보름에는 개들을 굶겨요?</td>\n",
       "      <td>0</td>\n",
       "    </tr>\n",
       "    <tr>\n",
       "      <th>61215</th>\n",
       "      <td>컴퓨터 청소 방법</td>\n",
       "      <td>컴퓨터 청소하는 방법</td>\n",
       "      <td>1</td>\n",
       "    </tr>\n",
       "    <tr>\n",
       "      <th>61216</th>\n",
       "      <td>네번째 손가락은 왜 혼자 안 펴질까?</td>\n",
       "      <td>손가락이 갈라지는데 왜 그런걸까요????</td>\n",
       "      <td>0</td>\n",
       "    </tr>\n",
       "    <tr>\n",
       "      <th>61217</th>\n",
       "      <td>세계에서 가장 오래 된 책은?</td>\n",
       "      <td>세계에서 가장 유명한 책</td>\n",
       "      <td>0</td>\n",
       "    </tr>\n",
       "    <tr>\n",
       "      <th>61218</th>\n",
       "      <td>성금내는거요.</td>\n",
       "      <td>불우이웃돕기 성금</td>\n",
       "      <td>0</td>\n",
       "    </tr>\n",
       "    <tr>\n",
       "      <th>61219</th>\n",
       "      <td>핸드드립과티백커피의차이점</td>\n",
       "      <td>핸드드립커피와 인스턴트이과수의차이</td>\n",
       "      <td>0</td>\n",
       "    </tr>\n",
       "  </tbody>\n",
       "</table>\n",
       "</div>"
      ],
      "text/plain": [
       "                                sent_a                  sent_b  labels\n",
       "61200                          항생제주사관한             항생제 주사 맞고나서       1\n",
       "61201                        강아지 용변훈련법        강아지 용변 훈련이 방법좀!!       1\n",
       "61202              카페인 중독인데 어트캐 해야하나요?            카페인 중독에 대해서.       0\n",
       "61203  에어컨에서 나오는 물의 성질(성분)을 자세히 알려주세요.          물의 성분은 무엇 인가요?       0\n",
       "61204     박카스 - 박카스는 왜 빨대를 꽂아 먹지 못할까요?     박카스는 왜 두병 마시면 안되나요?       0\n",
       "61205            음식 할 때 양념 넣는 순서가 있나요?       볶음밥 하는 순서좀 알려주세요~       0\n",
       "61206                십장생의 의미에 대해 알려주세요              십장생 각각의 의미       1\n",
       "61207                  탕수육소스가 천천히식는 이유              탕수육소스 굳는이유       0\n",
       "61208       가족구조의 빈폴(bean pole)화가 뭐지요?         가정주부는 무슨 산업인가요?       0\n",
       "61209                   영사관과 대사관의 차이점?            영사관과 대사관의 차이       1\n",
       "61210                        방음부스 방음자재       방음자재 질문입니다(내공100)       1\n",
       "61211                         칼슘에대해서..                  칼슘에관해서       1\n",
       "61212                    펠레의 저주 말이예요..                  펠레의 왈?       0\n",
       "61213                      조기경보기 질문이요!                조기경보기 질문       1\n",
       "61214              보름 게는 개도안먹는다는데 왜그러죠         왜 보름에는 개들을 굶겨요?       0\n",
       "61215                        컴퓨터 청소 방법             컴퓨터 청소하는 방법       1\n",
       "61216             네번째 손가락은 왜 혼자 안 펴질까?  손가락이 갈라지는데 왜 그런걸까요????       0\n",
       "61217                 세계에서 가장 오래 된 책은?           세계에서 가장 유명한 책       0\n",
       "61218                          성금내는거요.               불우이웃돕기 성금       0\n",
       "61219                    핸드드립과티백커피의차이점      핸드드립커피와 인스턴트이과수의차이       0"
      ]
     },
     "execution_count": 71,
     "metadata": {},
     "output_type": "execute_result"
    }
   ],
   "source": [
    "df.tail(20)"
   ]
  },
  {
   "cell_type": "code",
   "execution_count": 81,
   "id": "2288f58e-6311-40a2-945e-144b71cf14fd",
   "metadata": {},
   "outputs": [],
   "source": [
    "# data = pd.read_csv('train_data', sep='\\t')\n",
    "# label = pd.read_csv('train_label.csv',sep='\\t')\n",
    "data = {'sent_a':[], 'sent_b':[], 'labels':[]}\n",
    "with open('test_data', 'r') as f:\n",
    "    cnt = 0\n",
    "    test = []\n",
    "    for idx, line in enumerate(f):\n",
    "    # line = f.readline()\n",
    "        try:\n",
    "            a, b = line.split('\\t')\n",
    "        except:\n",
    "            cnt += 1\n",
    "            test.append(idx)\n",
    "            continue\n",
    "        data['sent_a'].append(a)\n",
    "        data['sent_b'].append(b.rstrip())\n",
    "        if cnt ==20:\n",
    "            break"
   ]
  },
  {
   "cell_type": "code",
   "execution_count": 82,
   "id": "6d4a9b09-947c-48b3-9c8a-089f01006a77",
   "metadata": {},
   "outputs": [],
   "source": [
    "with open('test_label', 'r') as f:\n",
    "    cnt = 0\n",
    "    test = []\n",
    "    for idx, line in enumerate(f):\n",
    "        data['labels'].append(int(line))"
   ]
  },
  {
   "cell_type": "code",
   "execution_count": 83,
   "id": "69a6c5f3-4a43-4007-94b0-b19d73119f7b",
   "metadata": {},
   "outputs": [
    {
     "data": {
      "text/plain": [
       "15304"
      ]
     },
     "execution_count": 83,
     "metadata": {},
     "output_type": "execute_result"
    }
   ],
   "source": [
    "len(data['labels'])"
   ]
  },
  {
   "cell_type": "code",
   "execution_count": 84,
   "id": "e02f7084-d0fc-4144-b1a6-dcef461f3039",
   "metadata": {},
   "outputs": [
    {
     "data": {
      "text/plain": [
       "15304"
      ]
     },
     "execution_count": 84,
     "metadata": {},
     "output_type": "execute_result"
    }
   ],
   "source": [
    "len(data['sent_a'])"
   ]
  },
  {
   "cell_type": "code",
   "execution_count": 85,
   "id": "792a7eea-c962-4366-97d0-52a5bbad1481",
   "metadata": {},
   "outputs": [
    {
     "data": {
      "text/plain": [
       "15304"
      ]
     },
     "execution_count": 85,
     "metadata": {},
     "output_type": "execute_result"
    }
   ],
   "source": [
    "len(data['sent_b'])"
   ]
  },
  {
   "cell_type": "code",
   "execution_count": 86,
   "id": "078f0c6e-09dc-4326-af0f-22052f351430",
   "metadata": {},
   "outputs": [],
   "source": [
    "base_path = '/opt/ml/projects/tunning_data'\n",
    "import os, sys\n",
    "\n",
    "df = pd.DataFrame(data)\n",
    "df.to_csv(os.path.join(base_path, 'kor-sentence-valid.csv'))"
   ]
  },
  {
   "cell_type": "code",
   "execution_count": null,
   "id": "87575b66-e449-467c-9438-583721cacea5",
   "metadata": {},
   "outputs": [],
   "source": []
  }
 ],
 "metadata": {
  "kernelspec": {
   "display_name": "Python 3 (ipykernel)",
   "language": "python",
   "name": "python3"
  },
  "language_info": {
   "codemirror_mode": {
    "name": "ipython",
    "version": 3
   },
   "file_extension": ".py",
   "mimetype": "text/x-python",
   "name": "python",
   "nbconvert_exporter": "python",
   "pygments_lexer": "ipython3",
   "version": "3.8.5"
  }
 },
 "nbformat": 4,
 "nbformat_minor": 5
}
